{
  "nbformat": 4,
  "nbformat_minor": 0,
  "metadata": {
    "colab": {
      "name": "Untitled.ipynb",
      "provenance": [],
      "collapsed_sections": []
    },
    "kernelspec": {
      "name": "python3",
      "display_name": "Python 3"
    },
    "accelerator": "GPU"
  },
  "cells": [
    {
      "cell_type": "code",
      "metadata": {
        "id": "3ypAkvi_flku",
        "colab_type": "code",
        "colab": {
          "base_uri": "https://localhost:8080/",
          "height": 54
        },
        "outputId": "af8b59f5-101c-40f6-ab5c-9d2963fc8328"
      },
      "source": [
        "\n",
        "import torch\n",
        "import os\n",
        "import random\n",
        "from torch.utils.data import Dataset\n",
        "from torch.utils.data import DataLoader, TensorDataset\n",
        "\n",
        "import librosa\n",
        "import librosa.display\n",
        "import numba.decorators\n",
        "import numpy as np\n",
        "import matplotlib.pyplot as plt\n",
        "from numba.decorators import jit as optional_jit\n",
        "\n",
        "\n",
        "\n",
        "\n",
        "from google.colab import auth\n",
        "auth.authenticate_user()\n",
        "\n",
        "from google.colab import drive\n",
        "drive.mount('/content/gdrive')\n",
        "\n",
        "\n",
        "#PATH = 'C://Projects//keras_talk//keras//intern//dataset//'\n",
        "PATH = '/content/gdrive/My Drive/dataset/'\n",
        "\n",
        "\n",
        "BATCH_SIZE = 40\n",
        "\n",
        "\n"
      ],
      "execution_count": 1,
      "outputs": [
        {
          "output_type": "stream",
          "text": [
            "Drive already mounted at /content/gdrive; to attempt to forcibly remount, call drive.mount(\"/content/gdrive\", force_remount=True).\n"
          ],
          "name": "stdout"
        }
      ]
    },
    {
      "cell_type": "markdown",
      "metadata": {
        "id": "zX-Kb0M1jsfa",
        "colab_type": "text"
      },
      "source": [
        "#\n",
        "###### y_data \n",
        "class를\n",
        "\n",
        "[ 80, 60, 40, 20, 0, X , 180, 160, 140, 120, 100 ] 순서로 구성하였습니다.\n"
      ]
    },
    {
      "cell_type": "code",
      "metadata": {
        "id": "poVvlwCCfrDO",
        "colab_type": "code",
        "colab": {}
      },
      "source": [
        "# def Y_DATA(y_data):\n",
        "#    for idx in range(y_data.shape[0]):\n",
        "#        y = y_data[idx]\n",
        "#        if y < 0:  y_data[idx] = 10\n",
        "#        else:      y_data[idx] = (y//20)\n",
        "#    return y_data\n",
        "\n",
        "# [ 0, 20, 40, 60, 80, 100, 120, 140, 160, 180, X ]\n",
        "\n",
        "\n",
        "\n",
        "def Y_DATA(y_data):\n",
        "    for idx in range(y_data.shape[0]):\n",
        "        y = y_data[idx]\n",
        "        if y < 0:      y_data[idx] = 5\n",
        "        elif y < 90:   y_data[idx] = 4-(y//20) \n",
        "        else:          y_data[idx] = 15-(y//20)\n",
        "\n",
        "    return y_data\n",
        "\n",
        "# [ 80, 60, 40, 20, 0, X , 180, 160, 140, 120, 100 ]\n",
        "\n"
      ],
      "execution_count": 2,
      "outputs": []
    },
    {
      "cell_type": "code",
      "metadata": {
        "id": "wcUKbGfnftls",
        "colab_type": "code",
        "colab": {}
      },
      "source": [
        "\n",
        "'''  y <<=  angle.mat의 phi[1:1000] '''\n",
        "y =  np.load(PATH + 'angle.npy') \n",
        "\n",
        "\n"
      ],
      "execution_count": 3,
      "outputs": []
    },
    {
      "cell_type": "code",
      "metadata": {
        "id": "uEzzcs_fkW0y",
        "colab_type": "code",
        "colab": {
          "base_uri": "https://localhost:8080/",
          "height": 87
        },
        "outputId": "2a40cf74-c54d-4f33-87b6-18cd8f891c41"
      },
      "source": [
        "\n",
        "\n",
        "dataset_dict = { 0 : 'S_left',        1 : 'S_left_phase',\n",
        "                 2 : 'S_right',       3 : 'S_right_phase',\n",
        "                 4 : 'clean_left',    5 : 'clean_left_phase',\n",
        "                 6 : 'clean_right',   7 : 'clean_right_phase',\n",
        "                 8 : 'idx_drone_end', 9 : 'idx_voice_end',\n",
        "                10 : 'idx_voice_start'}\n",
        "\n",
        "\n",
        "\n",
        "\n",
        "x_data_list = [    0,        2,          1,             3        ]\n",
        "#                S_left   S_right   S_left_phase   S_right_phase\n",
        "\n",
        "\n",
        "\n",
        "numpy_dict = dict()\n",
        "for n in x_data_list:\n",
        "    numpy_name    = dataset_dict[n]\n",
        "    numpy_dict[n] = np.load( PATH + numpy_name + '.npy' )\n",
        "\n",
        "    print(dataset_dict[n])\n",
        "\n",
        "\n",
        "\n",
        "# .shape = (257, 382, 1000)\n",
        "S_L_mag = numpy_dict[0]\n",
        "S_L_phase = numpy_dict[1]\n",
        "S_R_mag = numpy_dict[2]\n",
        "S_R_phase = numpy_dict[3]\n",
        "\n"
      ],
      "execution_count": 4,
      "outputs": [
        {
          "output_type": "stream",
          "text": [
            "S_left\n",
            "S_right\n",
            "S_left_phase\n",
            "S_right_phase\n"
          ],
          "name": "stdout"
        }
      ]
    },
    {
      "cell_type": "markdown",
      "metadata": {
        "id": "ixCUUx7CgaaX",
        "colab_type": "text"
      },
      "source": [
        "##### Nomalization"
      ]
    },
    {
      "cell_type": "code",
      "metadata": {
        "id": "UeYAsFtPgZ6n",
        "colab_type": "code",
        "colab": {}
      },
      "source": [
        "\"\"\"\n",
        "(257, 382) size의  numpy array 2개를 \n",
        "위아래로 붙인 뒤  ( 257*2, 382 ) size로 만들어 주고\n",
        "\n",
        "( 257 * 2 * 382 )개의 sample에 대한 평균, 표준편차로\n",
        "정규화해주었습니다.\n",
        "\n",
        "정규화된 numpy array (z) 의 shape을 (2, 257, 382)로 바꿔주고\n",
        "반환값은 tuple type으로 z[0]은 정규화된 left magnitude\n",
        "                        z[1]은 정규화된 right magnitude입니다.\n",
        "\"\"\"\n",
        "\n",
        "def Mag_normalization( L, R ):\n",
        "    \n",
        "    samples = np.concatenate((L,R), axis=0)\n",
        "    mu = np.mean( samples )\n",
        "    sigma = np.std( samples )\n",
        "\n",
        "    z = (samples-mu) / sigma\n",
        "    z = z.reshape(2, L.shape[0], L.shape[1])\n",
        "    \n",
        "    return z[0], z[1]\n",
        "\n",
        "\n",
        "\n",
        "\"\"\"\n",
        "left phase와 right phase의 정규화는 따로 해주었습니다. \"\"\"\n",
        "\n",
        "def Phase_normalization( phase ):\n",
        "    mu = np.mean( phase )\n",
        "    sigma = np.std( phase )\n",
        "    \n",
        "    z = ( phase - mu ) / sigma\n",
        "    return z"
      ],
      "execution_count": 5,
      "outputs": []
    },
    {
      "cell_type": "markdown",
      "metadata": {
        "id": "7kgQuhMMjzg6",
        "colab_type": "text"
      },
      "source": [
        "# \n",
        "\n",
        "##### x_data 전처리\n",
        "\n",
        "1) x_data list 초기화\n",
        "\n",
        "2) (for) total data 개수인 1000번동안\n",
        "\n",
        "    -left, right mag의 idx 번째 array(257,382) 불러오기\n",
        "    -magnitude log 변환, 정규화\n",
        "    -left, right phase의 idx 번째 array(257,382) 불러오기, 정규화\n",
        "\n",
        "    -초기화된 list인 x_element에 삽입 (4,257,382)\n",
        "    - x_element의 type을 numpy array로 변환 후 x_data에 삽입\n",
        "\n",
        "3) type(x_data)을 numpy array로 변환"
      ]
    },
    {
      "cell_type": "code",
      "metadata": {
        "id": "r1Ogsib5kZNT",
        "colab_type": "code",
        "colab": {
          "base_uri": "https://localhost:8080/",
          "height": 52
        },
        "outputId": "c9f1f1b1-ffee-4c5a-aafa-cbd062de3727"
      },
      "source": [
        "\n",
        "# x_data 초기화\n",
        "x_data = []\n",
        "\n",
        "\n",
        "'''    x_data,       y_data '''\n",
        "'''(1000,4,257,382), (1000,)'''\n",
        "\n",
        "\n",
        "for idx in range(1000):\n",
        "\n",
        "    # list 초기화\n",
        "    x_element = []\n",
        "\n",
        "\n",
        "    \"\"\" Mag \"\"\"\n",
        "    # S_left,  S_right 의 idx번째 array\n",
        "    x_L = S_L_mag[:,:,idx]\n",
        "    x_R = S_R_mag[:,:,idx]\n",
        "\n",
        "\n",
        "\n",
        "    \"\"\"log scale [dB]\"\"\"\n",
        "    x_L_dB = 20*np.log10( np.abs(x_L) + np.finfo(np.float32).eps )\n",
        "    x_R_dB = 20*np.log10( np.abs(x_R) + np.finfo(np.float32).eps )\n",
        "    #x_L = librosa.amplitude_to_db(x_L)\n",
        "    #x_R = librosa.amplitude_to_db(x_R)\n",
        "\n",
        "\n",
        "\n",
        "    \"\"\"phase\"\"\"\n",
        "    # S_left_phase,  S_right_phase 의 idx번째 array\n",
        "    x_L_phase =  S_L_phase[:,:,idx] \n",
        "    x_R_phase =  S_R_phase[:,:,idx] \n",
        "\n",
        "    \n",
        "\n",
        "\n",
        "    \"\"\"normalization\"\"\"\n",
        "    x_L, x_R = Mag_normalization(x_L_dB, x_R_dB)\n",
        "    x_L_phase = Phase_normalization( x_L_phase )\n",
        "    x_R_phase = Phase_normalization( x_R_phase )\n",
        "\n",
        "\n",
        "\n",
        "\n",
        "    \"\"\"x_element.shape ==> (4, 257, 382)\"\"\"\n",
        "    # 초기화된 list( x_element )에 \n",
        "    # left, right의 mag[dB], phase[rad] 총 4개의 array 삽입 \n",
        "    x_element.append(x_L)\n",
        "    x_element.append(x_R)\n",
        "    x_element.append(x_L_phase)\n",
        "    x_element.append(x_R_phase)\n",
        "\n",
        "\n",
        "\n",
        "    # x_element 의 type을 list에서 numpy array로 변환후 \n",
        "    #x_data list에 삽입\n",
        "    x_data.append( np.asarray(x_element) )\n",
        "\n",
        "\n",
        "\n",
        "# x_data의 type을 list에서 numpy array로 변환\n",
        "x_data = np.asarray(x_data)\n",
        "\n",
        "# 0,20,40,60...180,-1 인 y_data를  Y_DATA 함수로 \n",
        "# 0,1,2,....,9,10 으로 변환\n",
        "y_data = Y_DATA( y )\n",
        "\n",
        "\n",
        "print('x_data:', x_data.shape)\n",
        "print('y_data:', y_data.shape)\n",
        "\n"
      ],
      "execution_count": 6,
      "outputs": [
        {
          "output_type": "stream",
          "text": [
            "x_data: (1000, 4, 257, 382)\n",
            "y_data: (1000, 1)\n"
          ],
          "name": "stdout"
        }
      ]
    },
    {
      "cell_type": "code",
      "metadata": {
        "id": "D_wc9q34kkw5",
        "colab_type": "code",
        "colab": {}
      },
      "source": [
        "\n",
        "train_size = 800\n",
        "valid_size = 200\n",
        "\n",
        "\n",
        "x_data = torch.from_numpy( x_data ).float().to('cuda')\n",
        "y_data = torch.from_numpy( y_data ).long().to('cuda').reshape(1000,)\n",
        "\n",
        "full_dataset = TensorDataset( x_data, y_data )\n",
        "\n",
        "# 8:2 비율로 랜덤\n",
        "train_data, valid_data = torch.utils.data.random_split( full_dataset, [train_size, valid_size])\n",
        "train_dataset = DataLoader( dataset=train_data, batch_size = BATCH_SIZE, shuffle=True, drop_last=True)\n",
        "valid_dataset = DataLoader( dataset=valid_data, batch_size = BATCH_SIZE, shuffle=True, drop_last=True)\n"
      ],
      "execution_count": 7,
      "outputs": []
    },
    {
      "cell_type": "markdown",
      "metadata": {
        "id": "SftZQbAU7TaW",
        "colab_type": "text"
      },
      "source": [
        "CNN Model은 이전에 MNIST분류에 사용한 model에서\n",
        "\n",
        "convolution layer 한 개를 추가하였습니다.\n",
        "\n",
        "\n",
        "첫번째 convolution layer에서 kernel size는 (7,7) stride가 (2,2)이고\n",
        "\n",
        ", 두번째, 세번째 convolution layer에서 kernel size는 (3,3) stride는 (1,1)입니다.\n",
        "\n",
        "\n",
        "\n",
        "\n"
      ]
    },
    {
      "cell_type": "code",
      "metadata": {
        "id": "rlVrlOabknMp",
        "colab_type": "code",
        "colab": {}
      },
      "source": [
        "import re\n",
        "import torch.nn as nn\n",
        "import torch.nn.functional as F\n",
        "\n",
        "\n",
        "\n",
        "class CNN (nn.Module):\n",
        "    def __init__(self):\n",
        "        super(CNN, self).__init__()\n",
        "        ''' 4 * 257 * 382'''\n",
        "        self.conv1 = nn.Conv2d( in_channels=  4, out_channels= 64, kernel_size = (7,7), stride = (2,2) )\n",
        "        #relu\n",
        "        #pooling\n",
        "        \n",
        "        ''' 64 * 62 * 94'''\n",
        "        self.conv2 = nn.Conv2d( in_channels= 64, out_channels= 64, kernel_size = (3,3) )\n",
        "        #relu\n",
        "        #pooling\n",
        "\n",
        "\n",
        "        ''' 64 * 30 * 46'''\n",
        "        self.conv3 = nn.Conv2d( in_channels= 64, out_channels= 32, kernel_size = (3,3) )\n",
        "        #relu\n",
        "        #pooling\n",
        "\n",
        "\n",
        "        ''' 32 * 14 * 22'''\n",
        "        #flatten\n",
        "\n",
        "        self.lay1  = nn.Linear( 32*14*22, 256)\n",
        "        self.lay2  = nn.Linear( 256, 256 )\n",
        "        self.lay3  = nn.Linear( 256, 64 )\n",
        "        self.lay4  = nn.Linear( 64 , 11 )\n",
        "        \n",
        "\n",
        "\n",
        "        # xavier initialization\n",
        "        nn.init.xavier_uniform_(self.conv1.weight)\n",
        "        nn.init.xavier_uniform_(self.conv2.weight)\n",
        "        nn.init.xavier_uniform_(self.conv3.weight)\n",
        "        \n",
        "        # kaiming he initialization\n",
        "        nn.init.kaiming_uniform_(self.lay1.weight)\n",
        "        nn.init.kaiming_uniform_(self.lay2.weight)\n",
        "        nn.init.kaiming_uniform_(self.lay3.weight)\n",
        "        nn.init.kaiming_uniform_(self.lay4.weight)\n",
        "\n",
        "\n",
        "        \n",
        "    def forward(self, output):\n",
        "        output = F.max_pool2d( F.relu( self.conv1(output) ),2 )\n",
        "        output = F.max_pool2d( F.relu( self.conv2(output) ),2 )\n",
        "        output = F.max_pool2d( F.relu( self.conv3(output) ),2 )\n",
        "        \n",
        "        output = output.view(-1, 32*14*22)\n",
        "        \n",
        "        output = F.relu( self.lay1(output) )\n",
        "        output = F.dropout(output, training=self.training)\n",
        "        output = F.relu( self.lay2(output) )\n",
        "        output = F.dropout(output, training=self.training)\n",
        "        output = F.relu( self.lay3(output) )\n",
        "        output = F.dropout(output, training=self.training)\n",
        "        output = F.log_softmax(self.lay4(output), dim=1)\n",
        "        \n",
        "        return output\n",
        "    "
      ],
      "execution_count": 17,
      "outputs": []
    },
    {
      "cell_type": "code",
      "metadata": {
        "id": "FEcOmj4ykvrQ",
        "colab_type": "code",
        "colab": {
          "base_uri": "https://localhost:8080/",
          "height": 174
        },
        "outputId": "852ea002-7ded-4be8-aab4-0e25b7ecbf6e"
      },
      "source": [
        "\n",
        "model = CNN().to('cuda')\n",
        "model\n"
      ],
      "execution_count": 18,
      "outputs": [
        {
          "output_type": "execute_result",
          "data": {
            "text/plain": [
              "CNN(\n",
              "  (conv1): Conv2d(4, 64, kernel_size=(7, 7), stride=(2, 2))\n",
              "  (conv2): Conv2d(64, 64, kernel_size=(3, 3), stride=(1, 1))\n",
              "  (conv3): Conv2d(64, 32, kernel_size=(3, 3), stride=(1, 1))\n",
              "  (lay1): Linear(in_features=9856, out_features=256, bias=True)\n",
              "  (lay2): Linear(in_features=256, out_features=256, bias=True)\n",
              "  (lay3): Linear(in_features=256, out_features=64, bias=True)\n",
              "  (lay4): Linear(in_features=64, out_features=11, bias=True)\n",
              ")"
            ]
          },
          "metadata": {
            "tags": []
          },
          "execution_count": 18
        }
      ]
    },
    {
      "cell_type": "markdown",
      "metadata": {
        "id": "9V2tAvAwPl7B",
        "colab_type": "text"
      },
      "source": [
        "###### Model 학습\n",
        "\n",
        "epoch 50, batch size 40\n",
        "\n",
        "optimizer\n",
        "\n",
        "    - Adagrad\n",
        "    - Adam\n",
        "    - SGD\n",
        "\n"
      ]
    },
    {
      "cell_type": "code",
      "metadata": {
        "id": "A2R6YSJnkqsd",
        "colab_type": "code",
        "colab": {
          "base_uri": "https://localhost:8080/",
          "height": 1000
        },
        "outputId": "96c2a2d0-40d0-46aa-b83b-aae62137f843"
      },
      "source": [
        "\n",
        "\n",
        "torch.manual_seed(100)\n",
        "criterion = nn.CrossEntropyLoss().to('cuda')\n",
        "\n",
        "\n",
        "'''optimizer'''\n",
        "\n",
        "optimizer = torch.optim.Adagrad(model.parameters(), lr=0.0001, weight_decay=0.9)\n",
        "TITLE = 'Adagrad (weight_decay=0.9)'\n",
        "\n",
        "#optimizer = torch.optim.Adam(model.parameters(), lr=0.00001)\n",
        "#TITLE = 'Adam'\n",
        "\n",
        "#optimizer = torch.optim.SGD(model.parameters(), lr=0.00001, momentum=0.9)\n",
        "#TITLE = 'SGD (momentum=0.9)'\n",
        "\n",
        "\n",
        "\n",
        "\n",
        "EPOCHS = 100\n",
        "\n",
        "train_loss = []\n",
        "train_acc  = []\n",
        "\n",
        "torch_pred  = torch.empty((1,), dtype=torch.int32).to('cuda')\n",
        "torch_label = torch.empty((1,), dtype=torch.int32).to('cuda')\n",
        "\n",
        "\n",
        "\n",
        "model.train()\n",
        "for epoch in range(EPOCHS):\n",
        "    #print('epoch ' + str(epoch+1))\n",
        "    total_loss = 0.0\n",
        "    total_acc = 0\n",
        "    \n",
        "    \n",
        "    for i, (data, label) in enumerate(train_dataset):\n",
        "        (data, label) = (data.to('cuda'), label.to('cuda'))\n",
        "\n",
        "        #zero the parameter gradients\n",
        "        optimizer.zero_grad()        \n",
        "\n",
        "        # forward + backward = optimize\n",
        "        output = model(data)\n",
        "        loss = criterion(output, label)\n",
        "        loss.backward()\n",
        "        optimizer.step()\n",
        "        \n",
        "\n",
        "        \"\"\"loss, accuracy\"\"\"\n",
        "        # batch 정확도\n",
        "        preds  = torch.max(output.data, 1)[1]\n",
        "        corr  = (preds==label).sum().item()\n",
        "        acc   = corr/BATCH_SIZE*100\n",
        "\n",
        "        # epoch 손실도, 정확도\n",
        "        total_loss += loss.item()\n",
        "        total_acc += corr\n",
        "    \n",
        "        # batch 손실도, 정확도 출력, 저장\n",
        "        train_loss.append(loss)\n",
        "        train_acc.append(acc)\n",
        "        #if i%5==0: print('\\tLoss: {:.3f}\\tAcc: {:.3f}'.format(loss.item(), acc))\n",
        "\n",
        "\n",
        "        \"\"\" confusion matrix\"\"\"\n",
        "        if epoch == EPOCHS-1:\n",
        "            torch_pred  = torch.cat( [ torch_pred , preds.to( 'cuda', dtype=torch.int32) ], dim=0 )\n",
        "            torch_label = torch.cat( [ torch_label, label.to( 'cuda', dtype=torch.int32) ], dim=0 )\n",
        "\n",
        "\n",
        "    # epoch 손실도, 정확도 출력\n",
        "    print('epoch' + str(epoch+1) + '  >> Loss: {:.3f} \\tAcc: {:.3f}'.format( total_loss, total_acc/800*100 ))\n",
        "    #print()\n",
        "\n",
        "    #confusion matrix\n",
        "    stacked = torch.stack( ( torch_label[1:], torch_pred[1:] ), dim=1 )\n",
        "\n"
      ],
      "execution_count": 19,
      "outputs": [
        {
          "output_type": "stream",
          "text": [
            "epoch1  >> Loss: 52.081 \tAcc: 8.375\n",
            "epoch2  >> Loss: 49.742 \tAcc: 8.875\n",
            "epoch3  >> Loss: 49.299 \tAcc: 10.125\n",
            "epoch4  >> Loss: 49.057 \tAcc: 8.750\n",
            "epoch5  >> Loss: 48.776 \tAcc: 10.000\n",
            "epoch6  >> Loss: 48.677 \tAcc: 9.875\n",
            "epoch7  >> Loss: 48.588 \tAcc: 9.250\n",
            "epoch8  >> Loss: 48.513 \tAcc: 8.875\n",
            "epoch9  >> Loss: 48.170 \tAcc: 11.125\n",
            "epoch10  >> Loss: 48.692 \tAcc: 8.750\n",
            "epoch11  >> Loss: 48.261 \tAcc: 11.125\n",
            "epoch12  >> Loss: 48.621 \tAcc: 8.875\n",
            "epoch13  >> Loss: 48.322 \tAcc: 11.250\n",
            "epoch14  >> Loss: 48.475 \tAcc: 9.875\n",
            "epoch15  >> Loss: 48.417 \tAcc: 9.750\n",
            "epoch16  >> Loss: 48.438 \tAcc: 11.125\n",
            "epoch17  >> Loss: 48.339 \tAcc: 10.000\n",
            "epoch18  >> Loss: 48.187 \tAcc: 10.875\n",
            "epoch19  >> Loss: 48.184 \tAcc: 9.625\n",
            "epoch20  >> Loss: 48.319 \tAcc: 10.500\n",
            "epoch21  >> Loss: 48.426 \tAcc: 7.125\n",
            "epoch22  >> Loss: 48.298 \tAcc: 9.500\n",
            "epoch23  >> Loss: 48.294 \tAcc: 9.875\n",
            "epoch24  >> Loss: 48.484 \tAcc: 10.000\n",
            "epoch25  >> Loss: 47.991 \tAcc: 8.625\n",
            "epoch26  >> Loss: 48.208 \tAcc: 8.750\n",
            "epoch27  >> Loss: 48.106 \tAcc: 9.750\n",
            "epoch28  >> Loss: 48.287 \tAcc: 8.875\n",
            "epoch29  >> Loss: 48.329 \tAcc: 9.625\n",
            "epoch30  >> Loss: 48.226 \tAcc: 9.375\n",
            "epoch31  >> Loss: 48.142 \tAcc: 9.250\n",
            "epoch32  >> Loss: 48.034 \tAcc: 8.375\n",
            "epoch33  >> Loss: 48.253 \tAcc: 9.625\n",
            "epoch34  >> Loss: 48.234 \tAcc: 8.500\n",
            "epoch35  >> Loss: 48.016 \tAcc: 9.500\n",
            "epoch36  >> Loss: 48.116 \tAcc: 9.875\n",
            "epoch37  >> Loss: 48.129 \tAcc: 8.250\n",
            "epoch38  >> Loss: 48.183 \tAcc: 9.000\n",
            "epoch39  >> Loss: 48.153 \tAcc: 10.375\n",
            "epoch40  >> Loss: 48.081 \tAcc: 10.250\n",
            "epoch41  >> Loss: 48.348 \tAcc: 8.750\n",
            "epoch42  >> Loss: 48.253 \tAcc: 9.375\n",
            "epoch43  >> Loss: 48.138 \tAcc: 9.875\n",
            "epoch44  >> Loss: 48.012 \tAcc: 11.250\n",
            "epoch45  >> Loss: 48.080 \tAcc: 11.125\n",
            "epoch46  >> Loss: 48.145 \tAcc: 8.875\n",
            "epoch47  >> Loss: 48.066 \tAcc: 9.750\n",
            "epoch48  >> Loss: 48.071 \tAcc: 11.125\n",
            "epoch49  >> Loss: 48.189 \tAcc: 10.750\n",
            "epoch50  >> Loss: 48.116 \tAcc: 9.375\n",
            "epoch51  >> Loss: 48.275 \tAcc: 7.750\n",
            "epoch52  >> Loss: 48.206 \tAcc: 8.875\n",
            "epoch53  >> Loss: 47.986 \tAcc: 9.125\n",
            "epoch54  >> Loss: 47.928 \tAcc: 10.250\n",
            "epoch55  >> Loss: 48.136 \tAcc: 8.125\n",
            "epoch56  >> Loss: 48.022 \tAcc: 10.375\n",
            "epoch57  >> Loss: 47.975 \tAcc: 9.875\n",
            "epoch58  >> Loss: 48.080 \tAcc: 10.625\n",
            "epoch59  >> Loss: 48.011 \tAcc: 9.000\n",
            "epoch60  >> Loss: 48.378 \tAcc: 8.000\n",
            "epoch61  >> Loss: 48.232 \tAcc: 11.000\n",
            "epoch62  >> Loss: 48.085 \tAcc: 9.125\n",
            "epoch63  >> Loss: 47.960 \tAcc: 8.750\n",
            "epoch64  >> Loss: 47.987 \tAcc: 10.750\n",
            "epoch65  >> Loss: 48.008 \tAcc: 11.375\n",
            "epoch66  >> Loss: 48.210 \tAcc: 9.000\n",
            "epoch67  >> Loss: 48.055 \tAcc: 9.625\n",
            "epoch68  >> Loss: 48.099 \tAcc: 8.750\n",
            "epoch69  >> Loss: 48.144 \tAcc: 8.375\n",
            "epoch70  >> Loss: 48.076 \tAcc: 10.000\n",
            "epoch71  >> Loss: 48.177 \tAcc: 8.625\n",
            "epoch72  >> Loss: 48.071 \tAcc: 10.125\n",
            "epoch73  >> Loss: 48.065 \tAcc: 9.125\n",
            "epoch74  >> Loss: 47.887 \tAcc: 10.750\n",
            "epoch75  >> Loss: 48.161 \tAcc: 9.625\n",
            "epoch76  >> Loss: 48.046 \tAcc: 8.625\n",
            "epoch77  >> Loss: 47.990 \tAcc: 9.875\n",
            "epoch78  >> Loss: 47.823 \tAcc: 9.250\n",
            "epoch79  >> Loss: 48.000 \tAcc: 9.500\n",
            "epoch80  >> Loss: 48.092 \tAcc: 11.750\n",
            "epoch81  >> Loss: 48.063 \tAcc: 9.625\n",
            "epoch82  >> Loss: 48.178 \tAcc: 9.750\n",
            "epoch83  >> Loss: 48.013 \tAcc: 10.000\n",
            "epoch84  >> Loss: 47.986 \tAcc: 9.500\n",
            "epoch85  >> Loss: 48.057 \tAcc: 10.375\n",
            "epoch86  >> Loss: 48.178 \tAcc: 9.875\n",
            "epoch87  >> Loss: 48.118 \tAcc: 8.000\n",
            "epoch88  >> Loss: 48.113 \tAcc: 8.875\n",
            "epoch89  >> Loss: 47.983 \tAcc: 9.625\n",
            "epoch90  >> Loss: 48.183 \tAcc: 9.875\n",
            "epoch91  >> Loss: 47.963 \tAcc: 9.875\n",
            "epoch92  >> Loss: 47.980 \tAcc: 10.250\n",
            "epoch93  >> Loss: 48.002 \tAcc: 9.500\n",
            "epoch94  >> Loss: 47.968 \tAcc: 11.125\n",
            "epoch95  >> Loss: 48.228 \tAcc: 8.750\n",
            "epoch96  >> Loss: 48.067 \tAcc: 11.875\n",
            "epoch97  >> Loss: 48.041 \tAcc: 10.250\n",
            "epoch98  >> Loss: 47.994 \tAcc: 12.000\n",
            "epoch99  >> Loss: 48.019 \tAcc: 10.250\n",
            "epoch100  >> Loss: 48.021 \tAcc: 9.500\n"
          ],
          "name": "stdout"
        }
      ]
    },
    {
      "cell_type": "markdown",
      "metadata": {
        "id": "QnHabBXifQio",
        "colab_type": "text"
      },
      "source": [
        "training loss, training accuracy"
      ]
    },
    {
      "cell_type": "code",
      "metadata": {
        "id": "VkZfK7O-S3mV",
        "colab_type": "code",
        "colab": {
          "base_uri": "https://localhost:8080/",
          "height": 309
        },
        "outputId": "fd6ae3da-f853-47f9-bbe2-a9bde8a8b1c6"
      },
      "source": [
        "\n",
        "%matplotlib inline\n",
        "fig, loss_ax = plt.subplots()\n",
        "acc_ax = loss_ax.twinx()\n",
        "\n",
        "loss_ax.plot(np.asarray(train_loss), 'y')\n",
        "acc_ax.plot( np.asarray(train_acc),  'b')\n",
        "\n",
        "loss_ax.set_xlabel('epoch')\n",
        "loss_ax.set_ylabel('loss')\n",
        "loss_ax.set_ylim([1.5, 3])\n",
        "\n",
        "acc_ax.set_ylabel('accuracy')\n",
        "acc_ax.set_ylim([0, 100])\n",
        "\n",
        "fig.legend(['loss','acc'], loc='upper right')\n",
        "plt.title('optimizer: '+TITLE)\n",
        "plt.savefig(PATH+TITLE+'.png')\n",
        "plt.show()"
      ],
      "execution_count": 11,
      "outputs": [
        {
          "output_type": "display_data",
          "data": {
            "image/png": "[encoded data removed]",
            "text/plain": [
              "<Figure size 432x288 with 2 Axes>"
            ]
          },
          "metadata": {
            "tags": [],
            "needs_background": "light"
          }
        }
      ]
    },
    {
      "cell_type": "markdown",
      "metadata": {
        "id": "S2r1uVMwgHJ3",
        "colab_type": "text"
      },
      "source": [
        "###### train_dataset confusion matrix\n",
        "\n",
        "마지막 epoch에서의 confusion matrix 입니다."
      ]
    },
    {
      "cell_type": "code",
      "metadata": {
        "id": "T5Ncb-6lUome",
        "colab_type": "code",
        "colab": {}
      },
      "source": [
        "\n",
        "idx = 12\n",
        "\n",
        "\n",
        "cmt = torch.zeros(11,11, dtype=torch.int32)\n",
        "\n",
        "for p in stacked:\n",
        "    tl, pl = p.tolist()\n",
        "    cmt[tl, pl] += 1"
      ],
      "execution_count": 12,
      "outputs": []
    },
    {
      "cell_type": "code",
      "metadata": {
        "id": "ENbwQli-fuuV",
        "colab_type": "code",
        "colab": {
          "base_uri": "https://localhost:8080/",
          "height": 450
        },
        "outputId": "9bce5346-cf7b-4be3-e71e-5171793c3e33"
      },
      "source": [
        "from sklearn.metrics import confusion_matrix\n",
        "from mlxtend.plotting import plot_confusion_matrix\n",
        "\n",
        "\n",
        "axis = ['80\\u00b0','60\\u00b0','40\\u00b0','20\\u00b0','0\\u00b0','X','180\\u00b0','160\\u00b0','140\\u00b0','120\\u00b0','100\\u00b0']\n",
        "#axis = ['X','0\\u00b0','20\\u00b0','40\\u00b0','60\\u00b0','80\\u00b0','100\\u00b0','120\\u00b0','140\\u00b0','160\\u00b0','180\\u00b0']\n",
        "\n",
        "\n",
        "plot_confusion_matrix(cmt.numpy())\n",
        "\n",
        "\n",
        "plt.title('train_dataset_confusion_matrix_2' + '\\n\\n' + \n",
        "          'first predicted label : '+ axis[  int( torch_pred[1] ) ])\n",
        "\n",
        "plt.xticks(np.arange(11), axis)\n",
        "plt.yticks(np.arange(11), axis)\n",
        "plt.gcf().set_size_inches(6,6,forward=True)\n",
        "\n",
        "plt.savefig( PATH + 'train_dataset_confusion_matrix' + str(idx) + '.png' )\n",
        "plt.show()"
      ],
      "execution_count": 13,
      "outputs": [
        {
          "output_type": "display_data",
          "data": {
            "image/png": "[encoded data removed]",
            "text/plain": [
              "<Figure size 432x432 with 1 Axes>"
            ]
          },
          "metadata": {
            "tags": [],
            "needs_background": "light"
          }
        }
      ]
    },
    {
      "cell_type": "code",
      "metadata": {
        "id": "3tOZT4JpQMpM",
        "colab_type": "code",
        "colab": {
          "base_uri": "https://localhost:8080/",
          "height": 34
        },
        "outputId": "c0b41e5a-c807-4e24-d2de-1185c4c50d6e"
      },
      "source": [
        "model.eval().to('cuda')\n",
        "\n",
        "\n",
        "\n",
        "\n",
        "with torch.no_grad():\n",
        "    correct = 0\n",
        "    total = 0\n",
        "\n",
        "    #confusion matrix\n",
        "    torch_pred_valid  = torch.empty((1,), dtype=torch.int32).to('cuda')\n",
        "    torch_label_valid = torch.empty((1,), dtype=torch.int32).to('cuda')\n",
        "\n",
        "    for data, label in valid_dataset:\n",
        "        output = model(data)\n",
        "        preds  = torch.max(output.data, 1)[1]\n",
        "        total   += len(label)\n",
        "        \n",
        "        label = label.reshape(BATCH_SIZE)\n",
        "        correct += (preds==label).sum().item()\n",
        "\n",
        "\n",
        "        #confusion matrix\n",
        "        torch_pred_valid  = torch.cat( [ torch_pred_valid , preds.to( 'cuda', dtype=torch.int32) ], dim=0 )\n",
        "        torch_label_valid = torch.cat( [ torch_label_valid, label.reshape(BATCH_SIZE).to( 'cuda', dtype=torch.int32) ], dim=0 )\n",
        "\n",
        "    valid_stacked = torch.stack( ( torch_label_valid[1:], torch_pred_valid[1:] ), dim=1 )\n",
        "\n",
        "\n",
        "\n",
        "      \n",
        "    print('Test Accuracy: ', 100.*correct/total)"
      ],
      "execution_count": 14,
      "outputs": [
        {
          "output_type": "stream",
          "text": [
            "Test Accuracy:  10.5\n"
          ],
          "name": "stdout"
        }
      ]
    },
    {
      "cell_type": "markdown",
      "metadata": {
        "id": "YWupazn8f-Xv",
        "colab_type": "text"
      },
      "source": [
        "validation dataset \n",
        "\n",
        "confusion matrix\n"
      ]
    },
    {
      "cell_type": "code",
      "metadata": {
        "id": "GFCSt37UDwBG",
        "colab_type": "code",
        "colab": {}
      },
      "source": [
        "\n",
        "cmt_valid = torch.zeros(11,11, dtype=torch.int32)\n",
        "\n",
        "for p in valid_stacked:\n",
        "    tl, pl = p.tolist()\n",
        "    cmt_valid[tl, pl] += 1"
      ],
      "execution_count": 15,
      "outputs": []
    },
    {
      "cell_type": "code",
      "metadata": {
        "id": "BIwuXGCRF0_W",
        "colab_type": "code",
        "colab": {
          "base_uri": "https://localhost:8080/",
          "height": 450
        },
        "outputId": "950715b8-ee02-4e51-a0ed-b8829ae6098e"
      },
      "source": [
        "\n",
        "plot_confusion_matrix(cmt_valid.numpy())\n",
        "\n",
        "\n",
        "\n",
        "plt.title('validation_dataset_confusion_matrix_2' + '\\n\\n' + \n",
        "          'first predicted label : '+ axis[  int( torch_pred_valid[1] ) ])\n",
        "plt.xticks(np.arange(11), axis)\n",
        "plt.yticks(np.arange(11), axis)\n",
        "plt.gcf().set_size_inches(6,6,forward=True)\n",
        "\n",
        "\n",
        "plt.savefig( PATH + 'validation_dataset_confusion_matrix' + str(idx) + '.png' )\n",
        "plt.show()\n"
      ],
      "execution_count": 16,
      "outputs": [
        {
          "output_type": "display_data",
          "data": {
            "image/png": "[encoded data removed]",
            "text/plain": [
              "<Figure size 432x432 with 1 Axes>"
            ]
          },
          "metadata": {
            "tags": [],
            "needs_background": "light"
          }
        }
      ]
    },
    {
      "cell_type": "code",
      "metadata": {
        "id": "Gx1DpEKLajgD",
        "colab_type": "code",
        "colab": {}
      },
      "source": [
        ""
      ],
      "execution_count": 16,
      "outputs": []
    }
  ]
}